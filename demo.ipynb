{
 "cells": [
  {
   "cell_type": "code",
   "execution_count": null,
   "metadata": {},
   "outputs": [],
   "source": [
    "!pip install git+https://github.com/hsiangjenli/social-network-crawler.git\n",
    "!playwright install"
   ]
  },
  {
   "cell_type": "code",
   "execution_count": null,
   "metadata": {},
   "outputs": [],
   "source": [
    "import SNC\n",
    "from tqdm import tqdm\n",
    "\n",
    "ptt = SNC.PTT(board=\"Bank_Service\", crawler_pages=1, sleep=0.5)\n",
    "for article in tqdm(ptt.get()):\n",
    "    print(article)"
   ]
  },
  {
   "cell_type": "code",
   "execution_count": null,
   "metadata": {},
   "outputs": [],
   "source": [
    "import SNC\n",
    "import nest_asyncio\n",
    "\n",
    "nest_asyncio.apply()\n",
    "\n",
    "async def run_crawler():\n",
    "    m = SNC.Mobile01(board=801, crawler_pages=1)\n",
    "    results = await m.main(crawler_page=1)\n",
    "    for content in results:\n",
    "        print(content)\n",
    "\n",
    "await run_crawler()"
   ]
  }
 ],
 "metadata": {
  "kernelspec": {
   "display_name": "base",
   "language": "python",
   "name": "python3"
  },
  "language_info": {
   "codemirror_mode": {
    "name": "ipython",
    "version": 3
   },
   "file_extension": ".py",
   "mimetype": "text/x-python",
   "name": "python",
   "nbconvert_exporter": "python",
   "pygments_lexer": "ipython3",
   "version": "3.11.4"
  }
 },
 "nbformat": 4,
 "nbformat_minor": 2
}
